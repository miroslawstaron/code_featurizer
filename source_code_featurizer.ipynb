{
 "cells": [
  {
   "cell_type": "markdown",
   "metadata": {},
   "source": [
    "# New featurizer\n",
    "\n",
    "This code implements the new featurizer of code and demonstrates its usage. It was used originally to featurize lines from Gerrit's comments.\n",
    "\n",
    "This version contains extra comments useful for understanding how this works. \n",
    "\n",
    "(c) Miroslaw Staron"
   ]
  },
  {
   "cell_type": "markdown",
   "metadata": {},
   "source": [
    "## Class declaration\n",
    "\n",
    "The class FeatureMaker is a code that takes a given set of features and a line as input. As output it produces the feature vector. \n",
    "\n",
    "It's supposed to be used as a utility and does not have much code in it. The main function is featurize. It has three variants, which have different performance, but the one that is just called featurize is best for most cases. \n",
    "\n",
    "The other class - DataSet - is a class which contains the feature vectors for all lines in a specific piece of code. Kind of like a DataFrame, but specific for this purpose."
   ]
  },
  {
   "cell_type": "code",
   "execution_count": 1,
   "metadata": {},
   "outputs": [],
   "source": [
    "# This is a python program to create feature vectors from the programming language code\n",
    "# in such a way that every distinct line is indeed distinct\n",
    "\n",
    "# author: Miroslaw Staron\n",
    "\n",
    "import re\n",
    "import pandas as pd\n",
    "import time\n",
    "from collections import Counter\n",
    "import re\n",
    "\n",
    "class FeatureMaker:\n",
    "    \"\"\"Class makes a feature vector base on the set of features defined in the class parameters\"\"\"\n",
    "\n",
    "    def __init__(self):\n",
    "        \"\"\"The initial state of the feature vector is actually an empty vector\"\"\"\n",
    "        self.featureVector = []\n",
    "\n",
    "    def addNewFeature(self, newFeature):\n",
    "        \"\"\"Adds just one feature to the list of features\"\"\"\n",
    "        self.featureVector.append(newFeature)\n",
    "\n",
    "    def addNewFeatures(self, newFeatures):\n",
    "        \"\"\"Adds a list of features\"\"\"\n",
    "        self.featureVector = self.featureVector + newFeatures\n",
    "    \n",
    "    def getFeatureVector(self):\n",
    "        return self.featureVector\n",
    "\n",
    "    def featurize(self, line):\n",
    "        \"\"\"Counts the frequency of each feature in a given line\"\"\"\n",
    "        self.features = []\n",
    "        for feature in self.featureVector:\n",
    "            self.features.append(str(line.count(feature)))\n",
    "        return self.features\n",
    "    \n",
    "    def featurize2(self, line):\n",
    "        \"\"\"Counts the frequency of each feature in a given line\"\"\"\n",
    "        self.features = []\n",
    "        counter = Counter(line)\n",
    "        for feature in self.featureVector:\n",
    "            self.features.append(str(counter[feature]))\n",
    "        return self.features\n",
    "    \n",
    "    def featurize3(self, line):\n",
    "        \"\"\"Counts the frequency of each feature in a given line\"\"\"\n",
    "        self.features = []\n",
    "        for feature in self.featureVector:\n",
    "            self.features.append(str(len(re.findall(str(feature), line))))\n",
    "        return self.features\n",
    "    \n",
    "    def featuresToString(self):\n",
    "        strFeatures = '$'.join(str(e) for e in self.features)\n",
    "        return strFeatures\n",
    "    \n",
    "    def findNewFeatures(self, lstTokens):\n",
    "        newElements = list(set(lstTokens) - set(self.featureVector))\n",
    "        return newElements\n",
    "\n",
    "def tokenizeString(myString):\n",
    "    \"\"\"This function takes a line and returns a set of strings; empty strings are removed\"\"\"\n",
    "    tokenList = '[\\(|\"|,|.|;|\\)|\\[|\\]|{|}| ,|\\n|\\t:]'\n",
    "    tokens = re.split(tokenList, myString)\n",
    "    tokens = list(filter(None, tokens))\n",
    "    return tokens\n",
    "\n",
    "class DataSet:\n",
    "    \"\"\"The class makes the connection between the code and its features\"\"\"\n",
    "\n",
    "    def __init__(self):\n",
    "        self.dictRows = {}\n",
    "        self.featureVector = []\n",
    "    \n",
    "    def addFeatureVector(self, lstFeatureVector):\n",
    "        self.featureVector = lstFeatureVector\n",
    "\n",
    "    def addNewLine(self, strLine, lstFeatures):\n",
    "        self.dictRows[lstFeatures] = strLine \n",
    "\n",
    "    def hasLine(self, lstFeatures):\n",
    "        return (lstFeatures in self.dictRows.keys())\n",
    "            \n",
    "    def getLine(self, lstFeatures):\n",
    "        return self.dictRows[lstFeatures]\n",
    "\n",
    "    def toCSV(self, strFilename):\n",
    "        fFile = open(strFilename, 'w', encoding='utf8')\n",
    "        strFirstLine = 'line$'\n",
    "        strFirstLine += '$'.join(self.featureVector) + '\\n'\n",
    "        fFile.write(strFirstLine)\n",
    "        for key, value in self.dictRows.items():\n",
    "            value = value.replace(\"\\n\", \"\").replace(\"$\",\"\").replace(\"\\r\",\"\").replace(\"\\t\",\"\")\n",
    "            strToFile = f'{value}${key}\\n'\n",
    "            fFile.write(strToFile)\n",
    "        fFile.close()\n",
    "    \n",
    "    def flush(self):\n",
    "        self.dictRows = {}\n",
    "        self.featureVector = []"
   ]
  },
  {
   "cell_type": "markdown",
   "metadata": {},
   "source": [
    "## The feature finder function\n",
    "\n",
    "This function is the main algorithm. It takes a list of lines to featurize and a name of the file where the list of featurers is to be stored. The file is needed as the list of features is saved periodically. \n",
    "\n",
    "The periodical saving is needed as the algorithm can take weeks to find the optimal feature set (for code bases that have over 100,000 loc) and sometimes the computer may restart during that time. To prevent loosing the work, the feature set is saved periodically. "
   ]
  },
  {
   "cell_type": "code",
   "execution_count": 2,
   "metadata": {},
   "outputs": [],
   "source": [
    "\n",
    "# this is an recursive function to find a set of features for a set of lines\n",
    "# the function goes through all lines and then checks which lines are identical given the feature list\n",
    "# then it takes one of the tokens from the identical lines and makes a recursion\n",
    "def findFeatureListIterative(lstLines, strOutputFeatureFile):\n",
    "    #print(f'Lines: {len(lstLines)}, features: {len(lstFeatures)}')\n",
    "    start_time = time.time()\n",
    "    \n",
    "    featurizer = FeatureMaker()\n",
    "    featureList = []\n",
    "\n",
    "    if len(lstLines) > 0:\n",
    "        initialFeatures = tokenizeString(' '.join(lstLines))\n",
    "        featurizer.addNewFeature(initialFeatures[0])\n",
    "        featureList.append(initialFeatures[0])\n",
    "    else:\n",
    "        return featureList\n",
    "\n",
    "    featureAdded = True\n",
    "\n",
    "    while featureAdded:\n",
    "        dictLinesUnique = {}\n",
    "        lstNotUnique = []\n",
    "        featureAdded = False\n",
    "\n",
    "        # featurizing all lines in this iteration\n",
    "        for line in lstLines:\n",
    "            mFeatures = featurizer.featurize(line)\n",
    "            strFeatures = '$'.join(mFeatures)\n",
    "            if not (strFeatures in dictLinesUnique.keys()):\n",
    "                dictLinesUnique[strFeatures] = line\n",
    "            else:\n",
    "                lstNotUnique.append(line)\n",
    "                lstNotUnique.append(dictLinesUnique[strFeatures])\n",
    "        \n",
    "        lstNotUnique = list(set(lstNotUnique))\n",
    "        strTime = f'{(time.time() - start_time):.2f} sec.'\n",
    "        start_time = time.time()\n",
    "        print(f'Non-unique lines remaining: {len(lstNotUnique)}, features found: {len(featureList)} in {strTime}')\n",
    "        \n",
    "        # this if statement is used only to save the features\n",
    "        if len(featureList) % 10 == 0:\n",
    "            print('Saving feature list...')\n",
    "            fFile = open(strOutputFeatureFile, 'w', encoding='utf8')\n",
    "            strFirstLine = str(len(lstNotUnique))\n",
    "            strFirstLine = '$'.join(featureList) + '\\n'\n",
    "            fFile.write(strFirstLine)\n",
    "            fFile.close()\n",
    "            print('Done...')\n",
    "\n",
    "        # and kicking-off the next iteration if necessary\n",
    "        # by necessary I mean that there are lines that are not different\n",
    "        if len(lstNotUnique) > 0:\n",
    "            allLines = lstNotUnique\n",
    "            getTokens = tokenizeString(' '.join(allLines))\n",
    "            #getTokens.sort(reverse=True)\n",
    "            for oneToken in getTokens:\n",
    "                if not oneToken in featureList:                    \n",
    "                    featureList.append(oneToken)\n",
    "                    featurizer.addNewFeature(oneToken)\n",
    "                    featureAdded = True\n",
    "                    break\n",
    "            if featureAdded:\n",
    "                #featureList = findFeatureList(allLines, featureList)\n",
    "                lstLines = lstNotUnique\n",
    "        \n",
    "    # returning the feature list\n",
    "    return featureList"
   ]
  },
  {
   "cell_type": "markdown",
   "metadata": {},
   "source": [
    "## Demonstration of how to use it\n",
    "\n",
    "This code demonstrates how to use the featurizer. \n",
    "\n",
    "It first reads the code (in this case as a Pandas data frame), then it processes it so that we have a list of lines of code only. Then it removes the duplicated lines (to make the algorithm work faster). "
   ]
  },
  {
   "cell_type": "code",
   "execution_count": 3,
   "metadata": {},
   "outputs": [
    {
     "name": "stdout",
     "output_type": "stream",
     "text": [
      "All Lines: 8\n",
      "Unique Lines: 8\n"
     ]
    }
   ],
   "source": [
    "##\n",
    "## This is a block where we test the featurizer class and the dataset class\n",
    "##\n",
    "\n",
    "dfCode = pd.read_csv('./main.csv', \n",
    "                    sep='$', \n",
    "                    error_bad_lines=False, \n",
    "                    warn_bad_lines=True, \n",
    "                    header=0, \n",
    "                    index_col=False)\n",
    "\n",
    "mLines = [line for line in dfCode['code_content'] if str(line) != 'nan' ]\n",
    "\n",
    "print(f'All Lines: {len(mLines)}')\n",
    "\n",
    "mLines = list(set(mLines))\n",
    "\n",
    "print(f'Unique Lines: {len(mLines)}')\n",
    "#print(mLines)\n",
    "\n"
   ]
  },
  {
   "cell_type": "markdown",
   "metadata": {},
   "source": [
    "This line executes the feature finder and gets the set of features as a result. \n",
    "\n",
    "The feature finder function prints out a bit of information about how much work it has left and how much time it takes per line. The time grows as the number of features grows with each iteration. Since the FeatureMaker.featurize function is a loop, it takes more time for each iteration. "
   ]
  },
  {
   "cell_type": "code",
   "execution_count": 5,
   "metadata": {},
   "outputs": [
    {
     "name": "stdout",
     "output_type": "stream",
     "text": [
      "Non-unique lines remaining: 7, features found: 1 in 0.00 sec.\n",
      "Non-unique lines remaining: 6, features found: 2 in 0.00 sec.\n",
      "Non-unique lines remaining: 6, features found: 3 in 0.00 sec.\n",
      "Non-unique lines remaining: 6, features found: 4 in 0.00 sec.\n",
      "Non-unique lines remaining: 6, features found: 5 in 0.00 sec.\n",
      "Non-unique lines remaining: 4, features found: 6 in 0.00 sec.\n",
      "Non-unique lines remaining: 2, features found: 7 in 0.00 sec.\n"
     ]
    }
   ],
   "source": [
    "features = findFeatureListIterative(mLines, './feature_list.csv')"
   ]
  },
  {
   "cell_type": "markdown",
   "metadata": {},
   "source": [
    "# Function to featurize the code based on a predefined list of features\n",
    "\n",
    "This function goes through the code once again and creates the feature vector for each line. It is separate from the previous one as we can use any feature list we want, not only the one from this new featurizer. "
   ]
  },
  {
   "cell_type": "code",
   "execution_count": 6,
   "metadata": {},
   "outputs": [],
   "source": [
    "\n",
    "def featurizeListPredefined(lstLines, lstFeatures):\n",
    "    dtLines = DataSet()\n",
    "    \n",
    "    featurizer = FeatureMaker()\n",
    "\n",
    "    featurizer.addNewFeatures(lstFeatures)\n",
    "\n",
    "    foundNewFeature = True\n",
    "    i = 1\n",
    "    while foundNewFeature:\n",
    "        foundNewFeature = False\n",
    "        print(f'Pass number: {i}')\n",
    "        i += 1\n",
    "        iLine = 0\n",
    "        total = len(lstLines)\n",
    "        for line in lstLines:\n",
    "            iLine += 1\n",
    "            if not foundNewFeature: \n",
    "                mFeatures = featurizer.featurize(line)  \n",
    "                if not all(v == 0 for v in mFeatures):    \n",
    "                    strFeatures = featurizer.featuresToString()\n",
    "                    if not dtLines.hasLine(strFeatures):\n",
    "                        dtLines.addNewLine(line, strFeatures)\n",
    "                    else:\n",
    "                        strLine = dtLines.getLine(strFeatures)\n",
    "                        if strLine != line:\n",
    "                            lineTokens = tokenizeString(line)\n",
    "                            oldLineTokens = tokenizeString(strLine)\n",
    "                            newFeatures = featurizer.findNewFeatures(lineTokens+oldLineTokens)\n",
    "                            if len(newFeatures) > 0:\n",
    "                                featurizer.addNewFeature(newFeatures[0])\n",
    "                                foundNewFeature = True\n",
    "                                dtLines.flush()\n",
    "                                dtLines.addFeatureVector(featurizer.featureVector)\n",
    "                                print(f'Found new feature at line {iLine} of {total}')                           \n",
    "\n",
    "    return dtLines"
   ]
  },
  {
   "cell_type": "markdown",
   "metadata": {},
   "source": [
    "## Demonstration of featurizing the code\n",
    "\n",
    "In this piece of code, we just use the featurizer. We already have a list of features to use and now we need to find the feature vector for each line. \n",
    "\n",
    "This function takes a while, mostly saving the feature table to CSV, which tends to be very big. If you want to check the progress, you can take a look at the memory consumption here or the size of the output file on the disk. "
   ]
  },
  {
   "cell_type": "code",
   "execution_count": 7,
   "metadata": {},
   "outputs": [
    {
     "name": "stdout",
     "output_type": "stream",
     "text": [
      "Pass number: 1\n"
     ]
    }
   ],
   "source": [
    "strOutputFile = './output_main.csv'\n",
    "dtLines = featurizeListPredefined(mLines, features)\n",
    "dtLines.addFeatureVector(features)\n",
    "dtLines.toCSV(strOutputFile)"
   ]
  },
  {
   "cell_type": "code",
   "execution_count": null,
   "metadata": {},
   "outputs": [],
   "source": []
  },
  {
   "cell_type": "code",
   "execution_count": null,
   "metadata": {},
   "outputs": [],
   "source": []
  }
 ],
 "metadata": {
  "kernelspec": {
   "display_name": "Python 3",
   "language": "python",
   "name": "python3"
  },
  "language_info": {
   "codemirror_mode": {
    "name": "ipython",
    "version": 3
   },
   "file_extension": ".py",
   "mimetype": "text/x-python",
   "name": "python",
   "nbconvert_exporter": "python",
   "pygments_lexer": "ipython3",
   "version": "3.6.6"
  }
 },
 "nbformat": 4,
 "nbformat_minor": 2
}
